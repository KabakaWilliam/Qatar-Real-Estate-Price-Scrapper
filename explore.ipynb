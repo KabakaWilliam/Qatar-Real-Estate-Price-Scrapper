{
 "cells": [
  {
   "cell_type": "code",
   "execution_count": 1,
   "metadata": {},
   "outputs": [],
   "source": [
    "import requests\n",
    "import pandas as pd\n",
    "from bs4 import BeautifulSoup as bs \n"
   ]
  },
  {
   "cell_type": "code",
   "execution_count": 2,
   "metadata": {},
   "outputs": [],
   "source": [
    "URL = \"http://www.qcb.gov.qa/english/publications/statistics/realestate/pages/realestatepriceindex.aspx\""
   ]
  },
  {
   "attachments": {},
   "cell_type": "markdown",
   "metadata": {},
   "source": [
    "# bs4 scrape"
   ]
  },
  {
   "cell_type": "code",
   "execution_count": 3,
   "metadata": {},
   "outputs": [],
   "source": [
    "# Load the webpage\n",
    "r = requests.get(\"http://www.qcb.gov.qa/english/publications/statistics/realestate/pages/realestatepriceindex.aspx\")\n",
    "soup = bs(r.content, \"html.parser\")\n",
    "\n",
    "# test output\n",
    "# print(soup.prettify())"
   ]
  },
  {
   "cell_type": "code",
   "execution_count": null,
   "metadata": {},
   "outputs": [],
   "source": [
    "# Scrape the table\n",
    "table = soup.find(\"table\", class_=\"TableNewStyle\")\n",
    "# # table\n",
    "# columns = table.find_all('th')\n",
    "\n",
    "# columns[0]\n",
    "# extract the data from the table\n",
    "for row in table.find_all(\"tr\"):\n",
    "    print(row.text)\n",
    "    # for cell in row.find_all(\"td\"):\n",
    "    #     print(cell.text)"
   ]
  },
  {
   "attachments": {},
   "cell_type": "markdown",
   "metadata": {},
   "source": [
    "# Pandas Html Extraction"
   ]
  },
  {
   "cell_type": "code",
   "execution_count": 36,
   "metadata": {},
   "outputs": [
    {
     "name": "stderr",
     "output_type": "stream",
     "text": [
      "/var/folders/_p/2d7d49_n60s0bh5zjmv7ynq00000gq/T/ipykernel_15957/1821412686.py:9: FutureWarning: The pandas.np module is deprecated and will be removed from pandas in a future version. Import numpy directly instead.\n",
      "  df['Year'] = df['Year'].replace('\\u200b', pd.np.nan)\n"
     ]
    },
    {
     "data": {
      "text/html": [
       "<div>\n",
       "<style scoped>\n",
       "    .dataframe tbody tr th:only-of-type {\n",
       "        vertical-align: middle;\n",
       "    }\n",
       "\n",
       "    .dataframe tbody tr th {\n",
       "        vertical-align: top;\n",
       "    }\n",
       "\n",
       "    .dataframe thead th {\n",
       "        text-align: right;\n",
       "    }\n",
       "</style>\n",
       "<table border=\"1\" class=\"dataframe\">\n",
       "  <thead>\n",
       "    <tr style=\"text-align: right;\">\n",
       "      <th></th>\n",
       "      <th>Year</th>\n",
       "      <th>Month</th>\n",
       "      <th>Index</th>\n",
       "    </tr>\n",
       "  </thead>\n",
       "  <tbody>\n",
       "    <tr>\n",
       "      <th>0</th>\n",
       "      <td>2021</td>\n",
       "      <td>Oct</td>\n",
       "      <td>223.59</td>\n",
       "    </tr>\n",
       "    <tr>\n",
       "      <th>1</th>\n",
       "      <td>NaN</td>\n",
       "      <td>Nov​</td>\n",
       "      <td>219.21​</td>\n",
       "    </tr>\n",
       "    <tr>\n",
       "      <th>2</th>\n",
       "      <td>NaN</td>\n",
       "      <td>Dec</td>\n",
       "      <td>212.36​</td>\n",
       "    </tr>\n",
       "    <tr>\n",
       "      <th>3</th>\n",
       "      <td>2022​</td>\n",
       "      <td>Jan</td>\n",
       "      <td>213.21</td>\n",
       "    </tr>\n",
       "    <tr>\n",
       "      <th>4</th>\n",
       "      <td>NaN</td>\n",
       "      <td>Feb</td>\n",
       "      <td>217.78</td>\n",
       "    </tr>\n",
       "    <tr>\n",
       "      <th>5</th>\n",
       "      <td>NaN</td>\n",
       "      <td>Mar</td>\n",
       "      <td>218.11</td>\n",
       "    </tr>\n",
       "    <tr>\n",
       "      <th>6</th>\n",
       "      <td>NaN</td>\n",
       "      <td>Apr</td>\n",
       "      <td>221.36</td>\n",
       "    </tr>\n",
       "    <tr>\n",
       "      <th>7</th>\n",
       "      <td>NaN</td>\n",
       "      <td>May​</td>\n",
       "      <td>217.60</td>\n",
       "    </tr>\n",
       "    <tr>\n",
       "      <th>8</th>\n",
       "      <td>NaN</td>\n",
       "      <td>Jun</td>\n",
       "      <td>220.38​</td>\n",
       "    </tr>\n",
       "    <tr>\n",
       "      <th>9</th>\n",
       "      <td>NaN</td>\n",
       "      <td>Jul​</td>\n",
       "      <td>209.98</td>\n",
       "    </tr>\n",
       "    <tr>\n",
       "      <th>10</th>\n",
       "      <td>NaN</td>\n",
       "      <td>Aug​</td>\n",
       "      <td>209.04</td>\n",
       "    </tr>\n",
       "    <tr>\n",
       "      <th>11</th>\n",
       "      <td>NaN</td>\n",
       "      <td>Sep</td>\n",
       "      <td>213.49​</td>\n",
       "    </tr>\n",
       "    <tr>\n",
       "      <th>12</th>\n",
       "      <td>NaN</td>\n",
       "      <td>Oct</td>\n",
       "      <td>219.90</td>\n",
       "    </tr>\n",
       "    <tr>\n",
       "      <th>13</th>\n",
       "      <td>NaN</td>\n",
       "      <td>Nov</td>\n",
       "      <td>220.28</td>\n",
       "    </tr>\n",
       "    <tr>\n",
       "      <th>14</th>\n",
       "      <td>NaN</td>\n",
       "      <td>Dec​</td>\n",
       "      <td>​223.41</td>\n",
       "    </tr>\n",
       "  </tbody>\n",
       "</table>\n",
       "</div>"
      ],
      "text/plain": [
       "     Year Month    Index\n",
       "0    2021   Oct   223.59\n",
       "1     NaN  Nov​  219.21​\n",
       "2     NaN   Dec  212.36​\n",
       "3   2022​   Jan   213.21\n",
       "4     NaN   Feb   217.78\n",
       "5     NaN   Mar   218.11\n",
       "6     NaN   Apr   221.36\n",
       "7     NaN  May​   217.60\n",
       "8     NaN   Jun  220.38​\n",
       "9     NaN  Jul​   209.98\n",
       "10    NaN  Aug​   209.04\n",
       "11    NaN   Sep  213.49​\n",
       "12    NaN   Oct   219.90\n",
       "13    NaN   Nov   220.28\n",
       "14    NaN  Dec​  ​223.41"
      ]
     },
     "execution_count": 36,
     "metadata": {},
     "output_type": "execute_result"
    }
   ],
   "source": [
    "# extract the table data as a list of DataFrames\n",
    "dfs = pd.read_html(str(soup.find(\"table\", class_=\"TableNewStyle\")))\n",
    "\n",
    "# select the first DataFrame in the list (assuming there is only one table)\n",
    "df = dfs[0]\n",
    "\n",
    "# print the DataFrame\n",
    "df = df.rename(columns={\"t\\u200b\\u200b\\u200bYear\": \"Year\"})\n",
    "# remove \\u200b from the empty year row\n",
    "df['Year'] = df['Year'].replace('\\u200b', pd.np.nan)\n",
    "dfCopy = df.copy()\n",
    "df[:]"
   ]
  },
  {
   "cell_type": "code",
   "execution_count": 37,
   "metadata": {},
   "outputs": [],
   "source": [
    "# replace NaN's\n",
    "df[\"Year\"].fillna(method=\"ffill\",  limit=len(df), inplace=True)"
   ]
  },
  {
   "cell_type": "code",
   "execution_count": 38,
   "metadata": {},
   "outputs": [],
   "source": [
    "# save the file\n",
    "df.to_csv('Real_Estate_Price_Index.csv', index=False)"
   ]
  },
  {
   "cell_type": "code",
   "execution_count": null,
   "metadata": {},
   "outputs": [],
   "source": []
  }
 ],
 "metadata": {
  "kernelspec": {
   "display_name": ".venv",
   "language": "python",
   "name": "python3"
  },
  "language_info": {
   "codemirror_mode": {
    "name": "ipython",
    "version": 3
   },
   "file_extension": ".py",
   "mimetype": "text/x-python",
   "name": "python",
   "nbconvert_exporter": "python",
   "pygments_lexer": "ipython3",
   "version": "3.11.1"
  },
  "orig_nbformat": 4
 },
 "nbformat": 4,
 "nbformat_minor": 2
}
